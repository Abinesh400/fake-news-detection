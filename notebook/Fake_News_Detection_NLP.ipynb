{
 "cells": [
  {
   "cell_type": "markdown",
   "id": "9bfe7c40",
   "metadata": {},
   "source": [
    "# Advanced Fake News Detection Using NLP\n",
    "This notebook demonstrates how to detect fake news using Natural Language Processing techniques and machine learning models."
   ]
  },
  {
   "cell_type": "markdown",
   "id": "e0174d2b",
   "metadata": {},
   "source": [
    "## Step 1: Import Required Libraries"
   ]
  },
  {
   "cell_type": "code",
   "execution_count": null,
   "id": "f13109b4",
   "metadata": {},
   "outputs": [],
   "source": [
    "\n",
    "import pandas as pd\n",
    "import numpy as np\n",
    "import matplotlib.pyplot as plt\n",
    "import seaborn as sns\n",
    "import nltk\n",
    "import string\n",
    "from sklearn.model_selection import train_test_split\n",
    "from sklearn.feature_extraction.text import TfidfVectorizer\n",
    "from sklearn.linear_model import LogisticRegression\n",
    "from sklearn.metrics import classification_report, confusion_matrix, accuracy_score\n",
    "import warnings\n",
    "warnings.filterwarnings('ignore')\n"
   ]
  },
  {
   "cell_type": "markdown",
   "id": "23ca941f",
   "metadata": {},
   "source": [
    "## Step 2: Load the Dataset"
   ]
  },
  {
   "cell_type": "code",
   "execution_count": null,
   "id": "14cfe241",
   "metadata": {},
   "outputs": [],
   "source": [
    "\n",
    "# Load dataset from CSV (Fake and Real News combined)\n",
    "fake = pd.read_csv(\"https://raw.githubusercontent.com/clmentbisaillon/fake-and-real-news-dataset/master/Fake.csv\")\n",
    "real = pd.read_csv(\"https://raw.githubusercontent.com/clmentbisaillon/fake-and-real-news-dataset/master/True.csv\")\n",
    "\n",
    "fake['label'] = 0  # Fake\n",
    "real['label'] = 1  # Real\n",
    "\n",
    "df = pd.concat([fake[['text', 'label']], real[['text', 'label']]]).sample(frac=1).reset_index(drop=True)\n",
    "df.head()\n"
   ]
  },
  {
   "cell_type": "markdown",
   "id": "5ac31b4f",
   "metadata": {},
   "source": [
    "## Step 3: Preprocessing Text Data"
   ]
  },
  {
   "cell_type": "code",
   "execution_count": null,
   "id": "267d6632",
   "metadata": {},
   "outputs": [],
   "source": [
    "\n",
    "nltk.download('stopwords')\n",
    "from nltk.corpus import stopwords\n",
    "\n",
    "def clean_text(text):\n",
    "    text = text.lower()\n",
    "    text = ''.join([ch for ch in text if ch not in string.punctuation])\n",
    "    text = ' '.join([word for word in text.split() if word not in stopwords.words('english')])\n",
    "    return text\n",
    "\n",
    "df['clean_text'] = df['text'].apply(clean_text)\n",
    "df.head()\n"
   ]
  },
  {
   "cell_type": "markdown",
   "id": "225df864",
   "metadata": {},
   "source": [
    "## Step 4: Vectorization using TF-IDF"
   ]
  },
  {
   "cell_type": "code",
   "execution_count": null,
   "id": "90f56a51",
   "metadata": {},
   "outputs": [],
   "source": [
    "\n",
    "tfidf = TfidfVectorizer(max_features=5000)\n",
    "X = tfidf.fit_transform(df['clean_text']).toarray()\n",
    "y = df['label']\n"
   ]
  },
  {
   "cell_type": "markdown",
   "id": "f2f9c987",
   "metadata": {},
   "source": [
    "## Step 5: Train-Test Split"
   ]
  },
  {
   "cell_type": "code",
   "execution_count": null,
   "id": "d4f7a6f1",
   "metadata": {},
   "outputs": [],
   "source": [
    "\n",
    "X_train, X_test, y_train, y_test = train_test_split(X, y, test_size=0.2, random_state=42)\n"
   ]
  },
  {
   "cell_type": "markdown",
   "id": "803d0c93",
   "metadata": {},
   "source": [
    "## Step 6: Train Logistic Regression Model"
   ]
  },
  {
   "cell_type": "code",
   "execution_count": null,
   "id": "3e6d6d14",
   "metadata": {},
   "outputs": [],
   "source": [
    "\n",
    "model = LogisticRegression()\n",
    "model.fit(X_train, y_train)\n",
    "y_pred = model.predict(X_test)\n"
   ]
  },
  {
   "cell_type": "markdown",
   "id": "8f703fed",
   "metadata": {},
   "source": [
    "## Step 7: Evaluate the Model"
   ]
  },
  {
   "cell_type": "code",
   "execution_count": null,
   "id": "8f6ed266",
   "metadata": {},
   "outputs": [],
   "source": [
    "\n",
    "print(\"Accuracy:\", accuracy_score(y_test, y_pred))\n",
    "print(\"Classification Report:\\n\", classification_report(y_test, y_pred))\n",
    "sns.heatmap(confusion_matrix(y_test, y_pred), annot=True, fmt='d')\n",
    "plt.title(\"Confusion Matrix\")\n",
    "plt.show()\n"
   ]
  },
  {
   "cell_type": "markdown",
   "id": "df92b163",
   "metadata": {},
   "source": [
    "## Step 8: Save the Model and Vectorizer"
   ]
  },
  {
   "cell_type": "code",
   "execution_count": null,
   "id": "ddd1dc72",
   "metadata": {},
   "outputs": [],
   "source": [
    "\n",
    "import pickle\n",
    "\n",
    "with open(\"fake_news_model.pkl\", \"wb\") as f:\n",
    "    pickle.dump(model, f)\n",
    "with open(\"tfidf_vectorizer.pkl\", \"wb\") as f:\n",
    "    pickle.dump(tfidf, f)\n"
   ]
  },
  {
   "cell_type": "markdown",
   "id": "5e4b56e2",
   "metadata": {},
   "source": [
    "## Step 9: GitHub Implementation"
   ]
  },
  {
   "cell_type": "code",
   "execution_count": null,
   "id": "50f344c8",
   "metadata": {},
   "outputs": [],
   "source": [
    "\n",
    "# Instructions:\n",
    "# 1. Create a GitHub repository (e.g., \"fake-news-detector\")\n",
    "# 2. Upload these files: fake_news_model.pkl, tfidf_vectorizer.pkl, and a Streamlit or Flask app script.\n",
    "# 3. Add a README.md to explain how to run the app.\n",
    "# 4. Optionally deploy using Streamlit Cloud or Hugging Face Spaces.\n"
   ]
  }
 ],
 "metadata": {},
 "nbformat": 4,
 "nbformat_minor": 5
}
